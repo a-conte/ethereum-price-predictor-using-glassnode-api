{
 "cells": [
  {
   "cell_type": "markdown",
   "metadata": {},
   "source": [
    "# RNN (LSTM)"
   ]
  },
  {
   "cell_type": "code",
   "execution_count": 1,
   "metadata": {},
   "outputs": [],
   "source": [
    "# Importing necessary libraries\n",
    "import numpy as np\n",
    "import matplotlib.pyplot as plt\n",
    "%matplotlib inline\n",
    "import pandas as pd\n",
    "from sklearn.preprocessing import MinMaxScaler\n",
    "from sklearn.metrics import mean_squared_error\n",
    "plt.style.use(\"ggplot\")\n",
    "from keras.models import Sequential\n",
    "from keras.layers import LSTM, Dense, Dropout\n",
    "from tensorflow.keras import layers\n",
    "import tools.helper_functions as hf\n",
    "from tensorflow.keras.callbacks import EarlyStopping, ReduceLROnPlateau\n",
    "from keras import optimizers\n",
    "from tensorflow.keras.layers import Dense, Dropout, LSTM, RepeatVector, TimeDistributed, Bidirectional, Activation\n",
    "import warnings\n",
    "warnings.filterwarnings(\"ignore\")"
   ]
  },
  {
   "cell_type": "code",
   "execution_count": 2,
   "metadata": {},
   "outputs": [],
   "source": [
    "# Loading data set\n",
    "df = pd.read_excel('data/eth_api_data.xlsx')\n",
    "df.set_index('t', inplace=True)"
   ]
  },
  {
   "cell_type": "code",
   "execution_count": 3,
   "metadata": {},
   "outputs": [],
   "source": [
    "price_data = df.filter(['price_usd_close'])"
   ]
  },
  {
   "cell_type": "code",
   "execution_count": 4,
   "metadata": {},
   "outputs": [],
   "source": [
    "ts = price_data.values"
   ]
  },
  {
   "cell_type": "code",
   "execution_count": 5,
   "metadata": {},
   "outputs": [],
   "source": [
    "# Normalizing/Scaling the Data\n",
    "scaler = MinMaxScaler(feature_range=(0,1))\n",
    "scaled_data = scaler.fit_transform(ts)"
   ]
  },
  {
   "cell_type": "code",
   "execution_count": 6,
   "metadata": {},
   "outputs": [],
   "source": [
    "train_set_len = int(np.ceil(len(ts) * .9))\n",
    "train_set = scaled_data[0:int(train_set_len), :]\n",
    "test_set = scaled_data[train_set_len:, :]"
   ]
  },
  {
   "cell_type": "code",
   "execution_count": 7,
   "metadata": {},
   "outputs": [],
   "source": [
    "def split_sequences(sequences, n_steps_in, n_steps_out):\n",
    "    X, y = list(), list()\n",
    "    for i in range(len(sequences)):\n",
    "        # find the end of this pattern\n",
    "        end_ix = i + n_steps_in\n",
    "        out_end_ix = end_ix + n_steps_out\n",
    "        # check if we are beyond the dataset\n",
    "        if out_end_ix > len(sequences):\n",
    "            break\n",
    "        # gather input and output parts of the pattern\n",
    "        seq_x, seq_y = sequences[i:end_ix, :], sequences[end_ix:out_end_ix, -1]\n",
    "        X.append(seq_x)\n",
    "        y.append(seq_y)\n",
    "    return np.array(X), np.array(y)"
   ]
  },
  {
   "cell_type": "code",
   "execution_count": 8,
   "metadata": {},
   "outputs": [],
   "source": [
    "def train_val(price_data):\n",
    "    train_size = int(len(price_data) * 0.9)\n",
    "    train = price_data[0:train_size]\n",
    "    val = price_data[train_size:len(price_data)]\n",
    "    return train, val"
   ]
  },
  {
   "cell_type": "code",
   "execution_count": 38,
   "metadata": {},
   "outputs": [],
   "source": [
    "def prep_training(price_data, n_steps_in, n_steps_out):\n",
    "    train, val = train_val(price_data)\n",
    "    x_train, y_train = split_sequences(train, n_steps_in, n_steps_out)\n",
    "    x_val, y_val = split_sequences(val, n_steps_in, n_steps_out)\n",
    "    features = 1\n",
    "    return x_train, y_train, x_val, y_val, features"
   ]
  },
  {
   "cell_type": "code",
   "execution_count": 39,
   "metadata": {},
   "outputs": [],
   "source": [
    "n_steps_in, n_steps_out = 90 , 30\n",
    "x_train, y_train, x_val, y_val, feature = prep_training(train_set, n_steps_in, n_steps_out)"
   ]
  },
  {
   "cell_type": "code",
   "execution_count": 11,
   "metadata": {},
   "outputs": [],
   "source": [
    "# Using encoder-decoder model\n",
    "def cmod_1(n_steps_in, n_steps_out, features):\n",
    "    mod_1 = Sequential()\n",
    "    mod_1.add(LSTM(128, activation='relu', return_sequences=False, input_shape=(n_steps_in, features)))\n",
    "    mod_1.add(RepeatVector(n_steps_out))\n",
    "    mod_1.add(LSTM(128, activation='relu', return_sequences=False))\n",
    "    mod_1.add(Dense(features))\n",
    "    \n",
    "    mod_1.compile(optimizer='adam', loss='mean_squared_error', metrics=['mean_squared_error'])\n",
    "    return mod_1"
   ]
  },
  {
   "cell_type": "code",
   "execution_count": 12,
   "metadata": {},
   "outputs": [],
   "source": [
    "# LSTM model\n",
    "def cmod_2(n_steps_in, n_steps_out, features):\n",
    "    mod_2 = Sequential()\n",
    "    mod_2.add(LSTM(50, activation='relu', return_sequences=True, input_shape=(n_steps_in, features)))\n",
    "    mod_2.add(LSTM(50, activation='relu'))\n",
    "    mod_2.add(Dense(n_steps_out))\n",
    "    mod_2.add(Activation('linear'))\n",
    "    \n",
    "    mod_2.compile(loss='mean_squared_error', optimizer=opt, metrics=['mean_squared_error'])\n",
    "    \n",
    "    return mod_2"
   ]
  },
  {
   "cell_type": "code",
   "execution_count": 13,
   "metadata": {},
   "outputs": [],
   "source": [
    "# This stops training the model when a feature being monitored stops improving\n",
    "stop = EarlyStopping(monitor='val_loss',patience=5)\n",
    "\n",
    "# This reduces the learning rate when a feature has stopped improving\n",
    "reduce = ReduceLROnPlateau(monitor='val_loss', patience=3, factor=0.2, mil_lr=0.001)\n",
    "opt = optimizers.Adam(learning_rate=0.0001)"
   ]
  },
  {
   "cell_type": "markdown",
   "metadata": {},
   "source": [
    "### First LSTM Model"
   ]
  },
  {
   "cell_type": "code",
   "execution_count": 14,
   "metadata": {},
   "outputs": [],
   "source": [
    "mod_1 = cmod_1(n_steps_in, n_steps_out, feature)"
   ]
  },
  {
   "cell_type": "code",
   "execution_count": 15,
   "metadata": {},
   "outputs": [
    {
     "name": "stdout",
     "output_type": "stream",
     "text": [
      "Epoch 1/100\n",
      "34/34 [==============================] - 3s 103ms/step - loss: 0.0015 - mean_squared_error: 0.0015 - val_loss: 0.0043 - val_mean_squared_error: 0.0043\n",
      "Epoch 2/100\n",
      "34/34 [==============================] - 3s 96ms/step - loss: 4.8711e-04 - mean_squared_error: 4.8711e-04 - val_loss: 0.0047 - val_mean_squared_error: 0.0047\n",
      "Epoch 3/100\n",
      "34/34 [==============================] - 3s 100ms/step - loss: 4.4000e-04 - mean_squared_error: 4.4000e-04 - val_loss: 0.0034 - val_mean_squared_error: 0.0034\n",
      "Epoch 4/100\n",
      "34/34 [==============================] - 3s 98ms/step - loss: 4.4346e-04 - mean_squared_error: 4.4346e-04 - val_loss: 0.0053 - val_mean_squared_error: 0.0053\n",
      "Epoch 5/100\n",
      "34/34 [==============================] - 4s 104ms/step - loss: 4.2339e-04 - mean_squared_error: 4.2339e-04 - val_loss: 0.0040 - val_mean_squared_error: 0.0040\n",
      "Epoch 6/100\n",
      "34/34 [==============================] - 4s 106ms/step - loss: 4.2086e-04 - mean_squared_error: 4.2086e-04 - val_loss: 0.0038 - val_mean_squared_error: 0.0038\n",
      "Epoch 7/100\n",
      "34/34 [==============================] - 3s 98ms/step - loss: 3.9994e-04 - mean_squared_error: 3.9994e-04 - val_loss: 0.0049 - val_mean_squared_error: 0.0049\n",
      "Epoch 8/100\n",
      "34/34 [==============================] - 4s 113ms/step - loss: 4.0212e-04 - mean_squared_error: 4.0212e-04 - val_loss: 0.0046 - val_mean_squared_error: 0.0046\n"
     ]
    }
   ],
   "source": [
    "hist_1 = mod_1.fit(x_train, y_train, epochs=100, batch_size=50, verbose=1,\n",
    "         validation_data=(x_val, y_val), callbacks=[stop,reduce])"
   ]
  },
  {
   "cell_type": "code",
   "execution_count": 16,
   "metadata": {},
   "outputs": [
    {
     "name": "stdout",
     "output_type": "stream",
     "text": [
      "Model: \"sequential\"\n",
      "_________________________________________________________________\n",
      "Layer (type)                 Output Shape              Param #   \n",
      "=================================================================\n",
      "lstm (LSTM)                  (None, 128)               66560     \n",
      "_________________________________________________________________\n",
      "repeat_vector (RepeatVector) (None, 30, 128)           0         \n",
      "_________________________________________________________________\n",
      "lstm_1 (LSTM)                (None, 128)               131584    \n",
      "_________________________________________________________________\n",
      "dense (Dense)                (None, 1)                 129       \n",
      "=================================================================\n",
      "Total params: 198,273\n",
      "Trainable params: 198,273\n",
      "Non-trainable params: 0\n",
      "_________________________________________________________________\n"
     ]
    }
   ],
   "source": [
    "mod_1.summary()"
   ]
  },
  {
   "cell_type": "code",
   "execution_count": 17,
   "metadata": {},
   "outputs": [
    {
     "data": {
      "image/png": "[encoded data removed]",
      "text/plain": [
       "<Figure size 432x288 with 1 Axes>"
      ]
     },
     "metadata": {},
     "output_type": "display_data"
    }
   ],
   "source": [
    "plt.plot(hist_1.history['loss'])\n",
    "plt.plot(hist_1.history['val_loss'])\n",
    "plt.xlabel('Epochs')\n",
    "plt.ylabel('MSE')\n",
    "plt.legend(['Train','Val']);"
   ]
  },
  {
   "cell_type": "code",
   "execution_count": 18,
   "metadata": {},
   "outputs": [
    {
     "data": {
      "image/png": "[encoded data removed]",
      "text/plain": [
       "<Figure size 432x288 with 1 Axes>"
      ]
     },
     "metadata": {},
     "output_type": "display_data"
    }
   ],
   "source": [
    "plt.plot(hist_1.history['mean_squared_error'])\n",
    "plt.plot(hist_1.history['val_mean_squared_error'])\n",
    "plt.xlabel('Epochs')\n",
    "plt.ylabel('MSE')\n",
    "plt.legend(['Train','Val']);"
   ]
  },
  {
   "cell_type": "markdown",
   "metadata": {},
   "source": [
    "### Second LSTM Model"
   ]
  },
  {
   "cell_type": "code",
   "execution_count": 19,
   "metadata": {},
   "outputs": [],
   "source": [
    "mod_2 = cmod_2(n_steps_in, n_steps_out, feature)"
   ]
  },
  {
   "cell_type": "code",
   "execution_count": 20,
   "metadata": {},
   "outputs": [
    {
     "name": "stdout",
     "output_type": "stream",
     "text": [
      "Epoch 1/100\n",
      "25/25 [==============================] - 2s 89ms/step - loss: 0.0054 - mean_squared_error: 0.0054 - val_loss: 0.0314 - val_mean_squared_error: 0.0314\n",
      "Epoch 2/100\n",
      "25/25 [==============================] - 2s 77ms/step - loss: 0.0049 - mean_squared_error: 0.0049 - val_loss: 0.0292 - val_mean_squared_error: 0.0292\n",
      "Epoch 3/100\n",
      "25/25 [==============================] - 2s 72ms/step - loss: 0.0043 - mean_squared_error: 0.0043 - val_loss: 0.0266 - val_mean_squared_error: 0.0266\n",
      "Epoch 4/100\n",
      "25/25 [==============================] - 2s 71ms/step - loss: 0.0038 - mean_squared_error: 0.0038 - val_loss: 0.0235 - val_mean_squared_error: 0.0235\n",
      "Epoch 5/100\n",
      "25/25 [==============================] - 2s 70ms/step - loss: 0.0032 - mean_squared_error: 0.0032 - val_loss: 0.0204 - val_mean_squared_error: 0.0204\n",
      "Epoch 6/100\n",
      "25/25 [==============================] - 2s 72ms/step - loss: 0.0028 - mean_squared_error: 0.0028 - val_loss: 0.0172 - val_mean_squared_error: 0.0172\n",
      "Epoch 7/100\n",
      "25/25 [==============================] - 2s 70ms/step - loss: 0.0022 - mean_squared_error: 0.0022 - val_loss: 0.0143 - val_mean_squared_error: 0.0143\n",
      "Epoch 8/100\n",
      "25/25 [==============================] - 2s 71ms/step - loss: 0.0017 - mean_squared_error: 0.0017 - val_loss: 0.0121 - val_mean_squared_error: 0.0121\n",
      "Epoch 9/100\n",
      "25/25 [==============================] - 2s 71ms/step - loss: 0.0014 - mean_squared_error: 0.0014 - val_loss: 0.0109 - val_mean_squared_error: 0.0109\n",
      "Epoch 10/100\n",
      "25/25 [==============================] - 2s 70ms/step - loss: 0.0012 - mean_squared_error: 0.0012 - val_loss: 0.0101 - val_mean_squared_error: 0.0101\n",
      "Epoch 11/100\n",
      "25/25 [==============================] - 2s 71ms/step - loss: 0.0010 - mean_squared_error: 0.0010 - val_loss: 0.0102 - val_mean_squared_error: 0.0102\n",
      "Epoch 12/100\n",
      "25/25 [==============================] - 2s 69ms/step - loss: 9.3148e-04 - mean_squared_error: 9.3148e-04 - val_loss: 0.0089 - val_mean_squared_error: 0.0089\n",
      "Epoch 13/100\n",
      "25/25 [==============================] - 2s 70ms/step - loss: 8.4566e-04 - mean_squared_error: 8.4566e-04 - val_loss: 0.0080 - val_mean_squared_error: 0.0080\n",
      "Epoch 14/100\n",
      "25/25 [==============================] - 2s 70ms/step - loss: 7.9746e-04 - mean_squared_error: 7.9746e-04 - val_loss: 0.0079 - val_mean_squared_error: 0.0079\n",
      "Epoch 15/100\n",
      "25/25 [==============================] - 2s 70ms/step - loss: 7.4842e-04 - mean_squared_error: 7.4842e-04 - val_loss: 0.0076 - val_mean_squared_error: 0.0076\n",
      "Epoch 16/100\n",
      "25/25 [==============================] - 2s 70ms/step - loss: 7.1643e-04 - mean_squared_error: 7.1643e-04 - val_loss: 0.0074 - val_mean_squared_error: 0.0074\n",
      "Epoch 17/100\n",
      "25/25 [==============================] - 2s 70ms/step - loss: 6.8499e-04 - mean_squared_error: 6.8499e-04 - val_loss: 0.0068 - val_mean_squared_error: 0.0068\n",
      "Epoch 18/100\n",
      "25/25 [==============================] - 2s 69ms/step - loss: 6.6636e-04 - mean_squared_error: 6.6636e-04 - val_loss: 0.0069 - val_mean_squared_error: 0.0069\n",
      "Epoch 19/100\n",
      "25/25 [==============================] - 2s 71ms/step - loss: 6.5022e-04 - mean_squared_error: 6.5022e-04 - val_loss: 0.0063 - val_mean_squared_error: 0.0063\n",
      "Epoch 20/100\n",
      "25/25 [==============================] - 2s 70ms/step - loss: 6.3083e-04 - mean_squared_error: 6.3083e-04 - val_loss: 0.0065 - val_mean_squared_error: 0.0065\n",
      "Epoch 21/100\n",
      "25/25 [==============================] - 2s 70ms/step - loss: 6.2285e-04 - mean_squared_error: 6.2285e-04 - val_loss: 0.0063 - val_mean_squared_error: 0.0063\n",
      "Epoch 22/100\n",
      "25/25 [==============================] - 2s 75ms/step - loss: 6.0694e-04 - mean_squared_error: 6.0694e-04 - val_loss: 0.0062 - val_mean_squared_error: 0.0062\n",
      "Epoch 23/100\n",
      "25/25 [==============================] - 2s 89ms/step - loss: 5.9526e-04 - mean_squared_error: 5.9526e-04 - val_loss: 0.0062 - val_mean_squared_error: 0.0062\n",
      "Epoch 24/100\n",
      "25/25 [==============================] - 2s 84ms/step - loss: 5.8139e-04 - mean_squared_error: 5.8139e-04 - val_loss: 0.0061 - val_mean_squared_error: 0.0061\n",
      "Epoch 25/100\n",
      "25/25 [==============================] - 2s 75ms/step - loss: 5.7215e-04 - mean_squared_error: 5.7215e-04 - val_loss: 0.0057 - val_mean_squared_error: 0.0057\n",
      "Epoch 26/100\n",
      "25/25 [==============================] - 2s 88ms/step - loss: 5.6009e-04 - mean_squared_error: 5.6009e-04 - val_loss: 0.0057 - val_mean_squared_error: 0.0057\n",
      "Epoch 27/100\n",
      "25/25 [==============================] - 2s 82ms/step - loss: 5.4696e-04 - mean_squared_error: 5.4696e-04 - val_loss: 0.0052 - val_mean_squared_error: 0.0052\n",
      "Epoch 28/100\n",
      "25/25 [==============================] - 2s 76ms/step - loss: 5.3957e-04 - mean_squared_error: 5.3957e-04 - val_loss: 0.0058 - val_mean_squared_error: 0.0058\n",
      "Epoch 29/100\n",
      "25/25 [==============================] - 2s 76ms/step - loss: 5.4132e-04 - mean_squared_error: 5.4132e-04 - val_loss: 0.0056 - val_mean_squared_error: 0.0056\n",
      "Epoch 30/100\n",
      "25/25 [==============================] - 2s 83ms/step - loss: 5.3887e-04 - mean_squared_error: 5.3887e-04 - val_loss: 0.0053 - val_mean_squared_error: 0.0053\n",
      "Epoch 31/100\n",
      "25/25 [==============================] - 2s 81ms/step - loss: 5.2827e-04 - mean_squared_error: 5.2827e-04 - val_loss: 0.0058 - val_mean_squared_error: 0.0058\n",
      "Epoch 32/100\n",
      "25/25 [==============================] - 2s 88ms/step - loss: 5.2453e-04 - mean_squared_error: 5.2453e-04 - val_loss: 0.0054 - val_mean_squared_error: 0.0054\n",
      "Epoch 33/100\n",
      "25/25 [==============================] - 2s 82ms/step - loss: 5.2437e-04 - mean_squared_error: 5.2437e-04 - val_loss: 0.0056 - val_mean_squared_error: 0.0056\n",
      "Epoch 34/100\n",
      "25/25 [==============================] - 2s 74ms/step - loss: 5.1974e-04 - mean_squared_error: 5.1974e-04 - val_loss: 0.0056 - val_mean_squared_error: 0.0056\n",
      "Epoch 35/100\n",
      "25/25 [==============================] - 2s 70ms/step - loss: 5.1870e-04 - mean_squared_error: 5.1870e-04 - val_loss: 0.0051 - val_mean_squared_error: 0.0051\n",
      "Epoch 36/100\n",
      "25/25 [==============================] - 2s 73ms/step - loss: 5.1398e-04 - mean_squared_error: 5.1398e-04 - val_loss: 0.0052 - val_mean_squared_error: 0.0052\n",
      "Epoch 37/100\n",
      "25/25 [==============================] - 2s 71ms/step - loss: 5.1041e-04 - mean_squared_error: 5.1041e-04 - val_loss: 0.0055 - val_mean_squared_error: 0.0055\n",
      "Epoch 38/100\n",
      "25/25 [==============================] - 2s 69ms/step - loss: 5.0611e-04 - mean_squared_error: 5.0611e-04 - val_loss: 0.0049 - val_mean_squared_error: 0.0049\n",
      "Epoch 39/100\n",
      "25/25 [==============================] - 2s 70ms/step - loss: 5.0558e-04 - mean_squared_error: 5.0558e-04 - val_loss: 0.0051 - val_mean_squared_error: 0.0051\n",
      "Epoch 40/100\n",
      "25/25 [==============================] - 2s 69ms/step - loss: 5.0864e-04 - mean_squared_error: 5.0864e-04 - val_loss: 0.0052 - val_mean_squared_error: 0.0052\n",
      "Epoch 41/100\n",
      "25/25 [==============================] - 2s 67ms/step - loss: 4.9981e-04 - mean_squared_error: 4.9981e-04 - val_loss: 0.0048 - val_mean_squared_error: 0.0048\n",
      "Epoch 42/100\n",
      "25/25 [==============================] - 2s 68ms/step - loss: 4.9983e-04 - mean_squared_error: 4.9983e-04 - val_loss: 0.0051 - val_mean_squared_error: 0.0051\n",
      "Epoch 43/100\n",
      "25/25 [==============================] - 2s 70ms/step - loss: 4.9460e-04 - mean_squared_error: 4.9460e-04 - val_loss: 0.0051 - val_mean_squared_error: 0.0051\n",
      "Epoch 44/100\n",
      "25/25 [==============================] - 2s 67ms/step - loss: 4.9483e-04 - mean_squared_error: 4.9483e-04 - val_loss: 0.0054 - val_mean_squared_error: 0.0054\n",
      "Epoch 45/100\n",
      "25/25 [==============================] - 2s 71ms/step - loss: 4.9943e-04 - mean_squared_error: 4.9943e-04 - val_loss: 0.0048 - val_mean_squared_error: 0.0048\n",
      "Epoch 46/100\n",
      "25/25 [==============================] - 2s 69ms/step - loss: 4.9308e-04 - mean_squared_error: 4.9308e-04 - val_loss: 0.0045 - val_mean_squared_error: 0.0045\n",
      "Epoch 47/100\n",
      "25/25 [==============================] - 2s 69ms/step - loss: 4.9066e-04 - mean_squared_error: 4.9066e-04 - val_loss: 0.0046 - val_mean_squared_error: 0.0046\n",
      "Epoch 48/100\n",
      "25/25 [==============================] - 2s 70ms/step - loss: 4.8293e-04 - mean_squared_error: 4.8293e-04 - val_loss: 0.0049 - val_mean_squared_error: 0.0049\n",
      "Epoch 49/100\n",
      "25/25 [==============================] - 2s 71ms/step - loss: 4.8284e-04 - mean_squared_error: 4.8284e-04 - val_loss: 0.0051 - val_mean_squared_error: 0.0051\n",
      "Epoch 50/100\n",
      "25/25 [==============================] - 2s 77ms/step - loss: 4.8164e-04 - mean_squared_error: 4.8164e-04 - val_loss: 0.0049 - val_mean_squared_error: 0.0049\n",
      "Epoch 51/100\n",
      "25/25 [==============================] - 2s 73ms/step - loss: 4.7359e-04 - mean_squared_error: 4.7359e-04 - val_loss: 0.0045 - val_mean_squared_error: 0.0045\n",
      "Epoch 52/100\n",
      "25/25 [==============================] - 2s 72ms/step - loss: 4.7808e-04 - mean_squared_error: 4.7808e-04 - val_loss: 0.0045 - val_mean_squared_error: 0.0045\n",
      "Epoch 53/100\n",
      "25/25 [==============================] - 2s 70ms/step - loss: 4.7312e-04 - mean_squared_error: 4.7312e-04 - val_loss: 0.0050 - val_mean_squared_error: 0.0050\n",
      "Epoch 54/100\n",
      "25/25 [==============================] - 2s 75ms/step - loss: 4.7367e-04 - mean_squared_error: 4.7367e-04 - val_loss: 0.0043 - val_mean_squared_error: 0.0043\n",
      "Epoch 55/100\n",
      "25/25 [==============================] - 2s 72ms/step - loss: 4.6349e-04 - mean_squared_error: 4.6349e-04 - val_loss: 0.0048 - val_mean_squared_error: 0.0048\n",
      "Epoch 56/100\n",
      "25/25 [==============================] - 2s 70ms/step - loss: 4.6632e-04 - mean_squared_error: 4.6632e-04 - val_loss: 0.0054 - val_mean_squared_error: 0.0054\n",
      "Epoch 57/100\n",
      "25/25 [==============================] - 2s 69ms/step - loss: 4.6722e-04 - mean_squared_error: 4.6722e-04 - val_loss: 0.0043 - val_mean_squared_error: 0.0043\n",
      "Epoch 58/100\n",
      "25/25 [==============================] - 2s 69ms/step - loss: 4.5290e-04 - mean_squared_error: 4.5290e-04 - val_loss: 0.0050 - val_mean_squared_error: 0.0050\n",
      "Epoch 59/100\n",
      "25/25 [==============================] - 2s 71ms/step - loss: 4.5252e-04 - mean_squared_error: 4.5252e-04 - val_loss: 0.0048 - val_mean_squared_error: 0.0048\n",
      "Epoch 60/100\n",
      "25/25 [==============================] - 2s 73ms/step - loss: 4.4530e-04 - mean_squared_error: 4.4530e-04 - val_loss: 0.0045 - val_mean_squared_error: 0.0045\n",
      "Epoch 61/100\n",
      "25/25 [==============================] - 2s 69ms/step - loss: 4.3925e-04 - mean_squared_error: 4.3925e-04 - val_loss: 0.0046 - val_mean_squared_error: 0.0046\n",
      "Epoch 62/100\n",
      "25/25 [==============================] - 2s 70ms/step - loss: 4.2961e-04 - mean_squared_error: 4.2961e-04 - val_loss: 0.0041 - val_mean_squared_error: 0.0041\n",
      "Epoch 63/100\n",
      "25/25 [==============================] - 2s 71ms/step - loss: 4.2648e-04 - mean_squared_error: 4.2648e-04 - val_loss: 0.0048 - val_mean_squared_error: 0.0048\n",
      "Epoch 64/100\n",
      "25/25 [==============================] - 2s 78ms/step - loss: 4.1354e-04 - mean_squared_error: 4.1354e-04 - val_loss: 0.0040 - val_mean_squared_error: 0.0040\n",
      "Epoch 65/100\n",
      "25/25 [==============================] - 2s 81ms/step - loss: 4.1559e-04 - mean_squared_error: 4.1559e-04 - val_loss: 0.0045 - val_mean_squared_error: 0.0045\n",
      "Epoch 66/100\n",
      "25/25 [==============================] - 2s 69ms/step - loss: 3.8795e-04 - mean_squared_error: 3.8795e-04 - val_loss: 0.0045 - val_mean_squared_error: 0.0045\n",
      "Epoch 67/100\n",
      "25/25 [==============================] - 2s 73ms/step - loss: 3.7481e-04 - mean_squared_error: 3.7481e-04 - val_loss: 0.0051 - val_mean_squared_error: 0.0051\n",
      "Epoch 68/100\n",
      "25/25 [==============================] - 2s 79ms/step - loss: 3.7103e-04 - mean_squared_error: 3.7103e-04 - val_loss: 0.0039 - val_mean_squared_error: 0.0039\n",
      "Epoch 69/100\n",
      "25/25 [==============================] - 2s 84ms/step - loss: 3.5874e-04 - mean_squared_error: 3.5874e-04 - val_loss: 0.0049 - val_mean_squared_error: 0.0049\n",
      "Epoch 70/100\n",
      "25/25 [==============================] - 2s 70ms/step - loss: 3.7257e-04 - mean_squared_error: 3.7257e-04 - val_loss: 0.0050 - val_mean_squared_error: 0.0050\n",
      "Epoch 71/100\n",
      "25/25 [==============================] - 2s 69ms/step - loss: 3.6664e-04 - mean_squared_error: 3.6664e-04 - val_loss: 0.0050 - val_mean_squared_error: 0.0050\n",
      "Epoch 72/100\n",
      "25/25 [==============================] - 2s 70ms/step - loss: 3.4179e-04 - mean_squared_error: 3.4179e-04 - val_loss: 0.0040 - val_mean_squared_error: 0.0040\n",
      "Epoch 73/100\n",
      "25/25 [==============================] - 2s 70ms/step - loss: 3.3605e-04 - mean_squared_error: 3.3605e-04 - val_loss: 0.0046 - val_mean_squared_error: 0.0046\n",
      "Epoch 74/100\n",
      "25/25 [==============================] - 2s 75ms/step - loss: 3.1864e-04 - mean_squared_error: 3.1864e-04 - val_loss: 0.0041 - val_mean_squared_error: 0.0041\n",
      "Epoch 75/100\n",
      "25/25 [==============================] - 2s 74ms/step - loss: 3.1242e-04 - mean_squared_error: 3.1242e-04 - val_loss: 0.0042 - val_mean_squared_error: 0.0042\n",
      "Epoch 76/100\n",
      "25/25 [==============================] - 2s 96ms/step - loss: 2.9639e-04 - mean_squared_error: 2.9639e-04 - val_loss: 0.0047 - val_mean_squared_error: 0.0047\n",
      "Epoch 77/100\n",
      "25/25 [==============================] - 3s 110ms/step - loss: 2.9909e-04 - mean_squared_error: 2.9909e-04 - val_loss: 0.0043 - val_mean_squared_error: 0.0043\n",
      "Epoch 78/100\n",
      "25/25 [==============================] - 2s 77ms/step - loss: 2.8146e-04 - mean_squared_error: 2.8146e-04 - val_loss: 0.0044 - val_mean_squared_error: 0.0044\n",
      "Epoch 79/100\n",
      "25/25 [==============================] - 2s 74ms/step - loss: 2.7744e-04 - mean_squared_error: 2.7744e-04 - val_loss: 0.0039 - val_mean_squared_error: 0.0039\n",
      "Epoch 80/100\n",
      "25/25 [==============================] - 2s 75ms/step - loss: 2.6150e-04 - mean_squared_error: 2.6150e-04 - val_loss: 0.0040 - val_mean_squared_error: 0.0040\n",
      "Epoch 81/100\n",
      "25/25 [==============================] - 2s 74ms/step - loss: 2.6186e-04 - mean_squared_error: 2.6186e-04 - val_loss: 0.0042 - val_mean_squared_error: 0.0042\n",
      "Epoch 82/100\n",
      "25/25 [==============================] - 2s 74ms/step - loss: 2.4865e-04 - mean_squared_error: 2.4865e-04 - val_loss: 0.0044 - val_mean_squared_error: 0.0044\n",
      "Epoch 83/100\n",
      "25/25 [==============================] - 2s 75ms/step - loss: 2.3585e-04 - mean_squared_error: 2.3585e-04 - val_loss: 0.0043 - val_mean_squared_error: 0.0043\n",
      "Epoch 84/100\n",
      "25/25 [==============================] - 2s 80ms/step - loss: 2.2367e-04 - mean_squared_error: 2.2367e-04 - val_loss: 0.0043 - val_mean_squared_error: 0.0043\n",
      "Epoch 85/100\n",
      "25/25 [==============================] - 2s 75ms/step - loss: 2.2027e-04 - mean_squared_error: 2.2027e-04 - val_loss: 0.0045 - val_mean_squared_error: 0.0045\n",
      "Epoch 86/100\n",
      "25/25 [==============================] - 2s 73ms/step - loss: 2.2178e-04 - mean_squared_error: 2.2178e-04 - val_loss: 0.0044 - val_mean_squared_error: 0.0044\n",
      "Epoch 87/100\n",
      "25/25 [==============================] - 2s 72ms/step - loss: 2.1797e-04 - mean_squared_error: 2.1797e-04 - val_loss: 0.0044 - val_mean_squared_error: 0.0044\n",
      "Epoch 88/100\n",
      "25/25 [==============================] - 2s 71ms/step - loss: 2.2874e-04 - mean_squared_error: 2.2874e-04 - val_loss: 0.0048 - val_mean_squared_error: 0.0048\n",
      "Epoch 89/100\n",
      "25/25 [==============================] - 2s 72ms/step - loss: 2.2055e-04 - mean_squared_error: 2.2055e-04 - val_loss: 0.0046 - val_mean_squared_error: 0.0046\n",
      "Epoch 90/100\n",
      "25/25 [==============================] - 2s 75ms/step - loss: 2.4263e-04 - mean_squared_error: 2.4263e-04 - val_loss: 0.0043 - val_mean_squared_error: 0.0043\n",
      "Epoch 91/100\n",
      "25/25 [==============================] - 2s 83ms/step - loss: 2.1417e-04 - mean_squared_error: 2.1417e-04 - val_loss: 0.0045 - val_mean_squared_error: 0.0045\n",
      "Epoch 92/100\n",
      "25/25 [==============================] - 2s 88ms/step - loss: 2.0747e-04 - mean_squared_error: 2.0747e-04 - val_loss: 0.0045 - val_mean_squared_error: 0.0045\n",
      "Epoch 93/100\n",
      "25/25 [==============================] - 2s 79ms/step - loss: 1.9564e-04 - mean_squared_error: 1.9564e-04 - val_loss: 0.0046 - val_mean_squared_error: 0.0046\n",
      "Epoch 94/100\n",
      "25/25 [==============================] - 2s 90ms/step - loss: 1.9657e-04 - mean_squared_error: 1.9657e-04 - val_loss: 0.0049 - val_mean_squared_error: 0.0049\n",
      "Epoch 95/100\n",
      "25/25 [==============================] - 3s 101ms/step - loss: 2.0383e-04 - mean_squared_error: 2.0383e-04 - val_loss: 0.0046 - val_mean_squared_error: 0.0046\n",
      "Epoch 96/100\n",
      "25/25 [==============================] - 3s 105ms/step - loss: 1.9336e-04 - mean_squared_error: 1.9336e-04 - val_loss: 0.0045 - val_mean_squared_error: 0.0045\n",
      "Epoch 97/100\n",
      "25/25 [==============================] - 2s 96ms/step - loss: 1.9277e-04 - mean_squared_error: 1.9277e-04 - val_loss: 0.0047 - val_mean_squared_error: 0.0047\n",
      "Epoch 98/100\n",
      "25/25 [==============================] - 3s 115ms/step - loss: 1.9094e-04 - mean_squared_error: 1.9094e-04 - val_loss: 0.0046 - val_mean_squared_error: 0.0046\n",
      "Epoch 99/100\n",
      "25/25 [==============================] - 2s 92ms/step - loss: 1.8525e-04 - mean_squared_error: 1.8525e-04 - val_loss: 0.0046 - val_mean_squared_error: 0.0046\n",
      "Epoch 100/100\n",
      "25/25 [==============================] - 2s 82ms/step - loss: 1.8747e-04 - mean_squared_error: 1.8747e-04 - val_loss: 0.0047 - val_mean_squared_error: 0.0047\n"
     ]
    }
   ],
   "source": [
    "hist_2 = mod_2.fit(x_train, y_train, epochs=100 , steps_per_epoch=25, verbose=1,\n",
    "         validation_data=(x_val, y_val))"
   ]
  },
  {
   "cell_type": "code",
   "execution_count": 21,
   "metadata": {},
   "outputs": [
    {
     "name": "stdout",
     "output_type": "stream",
     "text": [
      "Model: \"sequential_1\"\n",
      "_________________________________________________________________\n",
      "Layer (type)                 Output Shape              Param #   \n",
      "=================================================================\n",
      "lstm_2 (LSTM)                (None, 90, 50)            10400     \n",
      "_________________________________________________________________\n",
      "lstm_3 (LSTM)                (None, 50)                20200     \n",
      "_________________________________________________________________\n",
      "dense_1 (Dense)              (None, 30)                1530      \n",
      "_________________________________________________________________\n",
      "activation (Activation)      (None, 30)                0         \n",
      "=================================================================\n",
      "Total params: 32,130\n",
      "Trainable params: 32,130\n",
      "Non-trainable params: 0\n",
      "_________________________________________________________________\n"
     ]
    }
   ],
   "source": [
    "mod_2.summary()"
   ]
  },
  {
   "cell_type": "code",
   "execution_count": 22,
   "metadata": {},
   "outputs": [
    {
     "data": {
      "image/png": "[encoded data removed]",
      "text/plain": [
       "<Figure size 432x288 with 1 Axes>"
      ]
     },
     "metadata": {},
     "output_type": "display_data"
    }
   ],
   "source": [
    "plt.plot(hist_2.history['loss'])\n",
    "plt.plot(hist_2.history['val_loss'])\n",
    "plt.xlabel('Epochs')\n",
    "plt.ylabel('MSE')\n",
    "plt.legend(['Train','Val']);"
   ]
  },
  {
   "cell_type": "code",
   "execution_count": 23,
   "metadata": {},
   "outputs": [
    {
     "data": {
      "image/png": "[encoded data removed]",
      "text/plain": [
       "<Figure size 432x288 with 1 Axes>"
      ]
     },
     "metadata": {},
     "output_type": "display_data"
    }
   ],
   "source": [
    "plt.plot(hist_2.history['mean_squared_error'])\n",
    "plt.plot(hist_2.history['val_mean_squared_error'])\n",
    "plt.xlabel('Epochs')\n",
    "plt.ylabel('MSE')\n",
    "plt.legend(['Train','Val']);"
   ]
  },
  {
   "cell_type": "code",
   "execution_count": 24,
   "metadata": {},
   "outputs": [],
   "source": [
    "# make a forecast\n",
    "def forecast(model, history, n_input):\n",
    "    # flatten data\n",
    "    data = np.array(history)\n",
    "    # retrieve last observations for input data\n",
    "    input_x = data[-n_input:, 0]\n",
    "    # reshape into [1, n_input, 1]\n",
    "    input_x = input_x.reshape((1, len(input_x), 1))\n",
    "\n",
    "    yhat = model.predict(input_x, verbose=0)\n",
    "    # we only want the vector forecast\n",
    "    yhat = yhat[0]\n",
    "    return yhat"
   ]
  },
  {
   "cell_type": "code",
   "execution_count": 25,
   "metadata": {},
   "outputs": [],
   "source": [
    "n_input = 90\n",
    "\n",
    "# history is a list of weekly data\n",
    "history = [x for x in train_set]\n",
    "# walk-forward validation over each week\n",
    "pred_1 = list()\n",
    "for i in range(len(test_set)):\n",
    "    # predict the week\n",
    "    yhat_sequence = forecast(mod_1, history, n_input)\n",
    "    # store the predictions\n",
    "    pred_1.append(yhat_sequence)\n",
    "    # get real observation and add to history for predicting the next week\n",
    "    history.append(test_set[i, :])\n",
    "    \n",
    "# evaluate predictions days for each week\n",
    "pred_1 = np.array(pred_1)"
   ]
  },
  {
   "cell_type": "code",
   "execution_count": 26,
   "metadata": {},
   "outputs": [
    {
     "name": "stdout",
     "output_type": "stream",
     "text": [
      "RMSE：0.1793\n"
     ]
    }
   ],
   "source": [
    "rmse_1 = np.sqrt(np.mean(((pred_1 -test_set) ** 2)))\n",
    "print(f'RMSE：{np.round(rmse_1, 4)}')"
   ]
  },
  {
   "cell_type": "code",
   "execution_count": 27,
   "metadata": {},
   "outputs": [],
   "source": [
    "pred_it_1 = scaler.inverse_transform(pred_1)\n"
   ]
  },
  {
   "cell_type": "code",
   "execution_count": 28,
   "metadata": {},
   "outputs": [],
   "source": [
    "test_inv = scaler.inverse_transform(test_set)\n"
   ]
  },
  {
   "cell_type": "code",
   "execution_count": 29,
   "metadata": {},
   "outputs": [
    {
     "name": "stdout",
     "output_type": "stream",
     "text": [
      "RMSE：748.0716\n"
     ]
    }
   ],
   "source": [
    "rmse_1 = np.sqrt(np.mean(((pred_it_1 -test_inv) ** 2)))\n",
    "print(f'RMSE：{np.round(rmse_1, 4)}')\n"
   ]
  },
  {
   "cell_type": "markdown",
   "metadata": {},
   "source": [
    "### Model 1 Evaluation"
   ]
  },
  {
   "cell_type": "code",
   "execution_count": 30,
   "metadata": {},
   "outputs": [
    {
     "name": "stdout",
     "output_type": "stream",
     "text": [
      "WARNING:tensorflow:Model was constructed with shape (None, 90, 1) for input Tensor(\"lstm_2_input:0\", shape=(None, 90, 1), dtype=float32), but it was called on an input with incompatible shape (None, 60, 1).\n"
     ]
    }
   ],
   "source": [
    "n_input = 90\n",
    "\n",
    "# history is a list of weekly data\n",
    "history = [x for x in train_set]\n",
    "# walk-forward validation over each week\n",
    "pred_2 = list()\n",
    "for i in range(len(test_set)):\n",
    "    # predict the week\n",
    "    yhat_sequence = forecast(mod_2, history, n_input)\n",
    "    # store the predictions\n",
    "    pred_2.append(yhat_sequence)\n",
    "    # get real observation and add to history for predicting the next week\n",
    "    history.append(test_set[i, :])\n",
    "    \n",
    "# evaluate predictions days for each week\n",
    "pred_2 = np.array(pred_2)"
   ]
  },
  {
   "cell_type": "code",
   "execution_count": 31,
   "metadata": {},
   "outputs": [
    {
     "name": "stdout",
     "output_type": "stream",
     "text": [
      "RMSE：824.2445\n"
     ]
    }
   ],
   "source": [
    "rmse_1 = np.sqrt(np.mean(((pred_2 - test_set) ** 2)))\n",
    "print(f'RMSE：{np.round(rmse_1, 4)}')"
   ]
  },
  {
   "cell_type": "code",
   "execution_count": 32,
   "metadata": {},
   "outputs": [],
   "source": [
    "pred_it_2 = scaler.inverse_transform(pred_2)\n"
   ]
  },
  {
   "cell_type": "code",
   "execution_count": 33,
   "metadata": {},
   "outputs": [
    {
     "name": "stdout",
     "output_type": "stream",
     "text": [
      "RMSE：3439016.9393\n"
     ]
    }
   ],
   "source": [
    "rmse_1 = np.sqrt(np.mean(((pred_it_2 - test_inv) ** 2)))\n",
    "print(f'RMSE：{np.round(rmse_1, 4)}')"
   ]
  },
  {
   "cell_type": "code",
   "execution_count": 34,
   "metadata": {},
   "outputs": [],
   "source": [
    "train = price_data[:train_set_len]\n",
    "test = price_data[train_set_len:]"
   ]
  },
  {
   "cell_type": "code",
   "execution_count": 35,
   "metadata": {},
   "outputs": [],
   "source": [
    "test['Predictions'] = pred_it_1"
   ]
  },
  {
   "cell_type": "code",
   "execution_count": 61,
   "metadata": {},
   "outputs": [
    {
     "data": {
      "image/png": "[encoded data removed]",
      "text/plain": [
       "<Figure size 1152x576 with 1 Axes>"
      ]
     },
     "metadata": {},
     "output_type": "display_data"
    }
   ],
   "source": [
    "# Visualize results\n",
    "ax = plt.figure(figsize=(16,8))\n",
    "ax.set(facecolor = 'white')\n",
    "plt.title('ETH Price Predictions')\n",
    "plt.ylabel('Price USD ($)', fontsize=14)\n",
    "plt.plot(train['price_usd_close'])\n",
    "plt.plot(test[['price_usd_close','Predictions']])\n",
    "plt.legend(['Train', 'Test', 'Predictions'], loc='lower right')\n",
    "plt.grid(False)\n",
    "plt.show();"
   ]
  }
 ],
 "metadata": {
  "kernelspec": {
   "display_name": "Python 3",
   "language": "python",
   "name": "python3"
  },
  "language_info": {
   "codemirror_mode": {
    "name": "ipython",
    "version": 3
   },
   "file_extension": ".py",
   "mimetype": "text/x-python",
   "name": "python",
   "nbconvert_exporter": "python",
   "pygments_lexer": "ipython3",
   "version": "3.8.5"
  }
 },
 "nbformat": 4,
 "nbformat_minor": 4
}
